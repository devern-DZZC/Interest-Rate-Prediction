{
 "cells": [
  {
   "cell_type": "markdown",
   "id": "aeb75d50-4bf4-487b-8f06-1e682d000335",
   "metadata": {},
   "source": [
    "# Loan Interest Rate Prediction"
   ]
  },
  {
   "cell_type": "code",
   "execution_count": null,
   "id": "f8e56318-d57b-4c6f-ac85-9fd1e9b89b51",
   "metadata": {},
   "outputs": [],
   "source": []
  }
 ],
 "metadata": {
  "kernelspec": {
   "display_name": "Python 3 (ipykernel)",
   "language": "python",
   "name": "python3"
  },
  "language_info": {
   "codemirror_mode": {
    "name": "ipython",
    "version": 3
   },
   "file_extension": ".py",
   "mimetype": "text/x-python",
   "name": "python",
   "nbconvert_exporter": "python",
   "pygments_lexer": "ipython3",
   "version": "3.12.4"
  }
 },
 "nbformat": 4,
 "nbformat_minor": 5
}
